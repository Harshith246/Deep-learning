{
    "nbformat_minor": 1, 
    "cells": [
        {
            "execution_count": null, 
            "cell_type": "code", 
            "metadata": {}, 
            "outputs": [], 
            "source": "# The code was removed by Watson Studio for sharing."
        }, 
        {
            "execution_count": 1, 
            "cell_type": "code", 
            "metadata": {}, 
            "outputs": [], 
            "source": "import matplotlib.pyplot as plt\nfrom PIL import Image\nimport os\n\n%reload_ext autoreload\n%autoreload 2\n%matplotlib inline\n\nimport warnings\nwarnings.filterwarnings('ignore')"
        }, 
        {
            "execution_count": 2, 
            "cell_type": "code", 
            "metadata": {}, 
            "outputs": [], 
            "source": "import numpy as np\nnp.random.seed(42)"
        }, 
        {
            "execution_count": 3, 
            "cell_type": "code", 
            "metadata": {}, 
            "outputs": [
                {
                    "output_type": "stream", 
                    "name": "stderr", 
                    "text": "Using TensorFlow backend.\n"
                }
            ], 
            "source": "import keras\nfrom keras.models import Sequential\nfrom keras.layers import Dense\nfrom keras.layers import Dropout # new!\nfrom keras.layers.normalization import BatchNormalization # new!\nfrom keras import regularizers # new! \nfrom keras.optimizers import SGD"
        }, 
        {
            "execution_count": 4, 
            "cell_type": "code", 
            "metadata": {}, 
            "outputs": [
                {
                    "execution_count": 4, 
                    "metadata": {}, 
                    "data": {
                        "text/html": "<div>\n<style scoped>\n    .dataframe tbody tr th:only-of-type {\n        vertical-align: middle;\n    }\n\n    .dataframe tbody tr th {\n        vertical-align: top;\n    }\n\n    .dataframe thead th {\n        text-align: right;\n    }\n</style>\n<table border=\"1\" class=\"dataframe\">\n  <thead>\n    <tr style=\"text-align: right;\">\n      <th></th>\n      <th>Loan_ID</th>\n      <th>Gender</th>\n      <th>Married</th>\n      <th>Dependents</th>\n      <th>Education</th>\n      <th>Self_Employed</th>\n      <th>ApplicantIncome</th>\n      <th>CoapplicantIncome</th>\n      <th>LoanAmount</th>\n      <th>Loan_Amount_Term</th>\n      <th>Credit_History</th>\n      <th>Property_Area</th>\n      <th>Loan_Status</th>\n    </tr>\n  </thead>\n  <tbody>\n    <tr>\n      <th>0</th>\n      <td>LP001002</td>\n      <td>Male</td>\n      <td>No</td>\n      <td>0</td>\n      <td>Graduate</td>\n      <td>No</td>\n      <td>5849</td>\n      <td>0.0</td>\n      <td>NaN</td>\n      <td>360.0</td>\n      <td>1.0</td>\n      <td>Urban</td>\n      <td>Y</td>\n    </tr>\n    <tr>\n      <th>1</th>\n      <td>LP001003</td>\n      <td>Male</td>\n      <td>Yes</td>\n      <td>1</td>\n      <td>Graduate</td>\n      <td>No</td>\n      <td>4583</td>\n      <td>1508.0</td>\n      <td>128.0</td>\n      <td>360.0</td>\n      <td>1.0</td>\n      <td>Rural</td>\n      <td>N</td>\n    </tr>\n    <tr>\n      <th>2</th>\n      <td>LP001005</td>\n      <td>Male</td>\n      <td>Yes</td>\n      <td>0</td>\n      <td>Graduate</td>\n      <td>Yes</td>\n      <td>3000</td>\n      <td>0.0</td>\n      <td>66.0</td>\n      <td>360.0</td>\n      <td>1.0</td>\n      <td>Urban</td>\n      <td>Y</td>\n    </tr>\n    <tr>\n      <th>3</th>\n      <td>LP001006</td>\n      <td>Male</td>\n      <td>Yes</td>\n      <td>0</td>\n      <td>Not Graduate</td>\n      <td>No</td>\n      <td>2583</td>\n      <td>2358.0</td>\n      <td>120.0</td>\n      <td>360.0</td>\n      <td>1.0</td>\n      <td>Urban</td>\n      <td>Y</td>\n    </tr>\n    <tr>\n      <th>4</th>\n      <td>LP001008</td>\n      <td>Male</td>\n      <td>No</td>\n      <td>0</td>\n      <td>Graduate</td>\n      <td>No</td>\n      <td>6000</td>\n      <td>0.0</td>\n      <td>141.0</td>\n      <td>360.0</td>\n      <td>1.0</td>\n      <td>Urban</td>\n      <td>Y</td>\n    </tr>\n  </tbody>\n</table>\n</div>", 
                        "text/plain": "    Loan_ID Gender Married Dependents     Education Self_Employed  \\\n0  LP001002   Male      No          0      Graduate            No   \n1  LP001003   Male     Yes          1      Graduate            No   \n2  LP001005   Male     Yes          0      Graduate           Yes   \n3  LP001006   Male     Yes          0  Not Graduate            No   \n4  LP001008   Male      No          0      Graduate            No   \n\n   ApplicantIncome  CoapplicantIncome  LoanAmount  Loan_Amount_Term  \\\n0             5849                0.0         NaN             360.0   \n1             4583             1508.0       128.0             360.0   \n2             3000                0.0        66.0             360.0   \n3             2583             2358.0       120.0             360.0   \n4             6000                0.0       141.0             360.0   \n\n   Credit_History Property_Area Loan_Status  \n0             1.0         Urban           Y  \n1             1.0         Rural           N  \n2             1.0         Urban           Y  \n3             1.0         Urban           Y  \n4             1.0         Urban           Y  "
                    }, 
                    "output_type": "execute_result"
                }
            ], 
            "source": "# The code was removed by Watson Studio for sharing."
        }, 
        {
            "execution_count": 5, 
            "cell_type": "code", 
            "metadata": {}, 
            "outputs": [
                {
                    "execution_count": 5, 
                    "metadata": {}, 
                    "data": {
                        "text/html": "<div>\n<style scoped>\n    .dataframe tbody tr th:only-of-type {\n        vertical-align: middle;\n    }\n\n    .dataframe tbody tr th {\n        vertical-align: top;\n    }\n\n    .dataframe thead th {\n        text-align: right;\n    }\n</style>\n<table border=\"1\" class=\"dataframe\">\n  <thead>\n    <tr style=\"text-align: right;\">\n      <th></th>\n      <th>Loan_ID</th>\n      <th>Gender</th>\n      <th>Married</th>\n      <th>Dependents</th>\n      <th>Education</th>\n      <th>Self_Employed</th>\n      <th>ApplicantIncome</th>\n      <th>CoapplicantIncome</th>\n      <th>LoanAmount</th>\n      <th>Loan_Amount_Term</th>\n      <th>Credit_History</th>\n      <th>Property_Area</th>\n    </tr>\n  </thead>\n  <tbody>\n    <tr>\n      <th>0</th>\n      <td>LP001015</td>\n      <td>Male</td>\n      <td>Yes</td>\n      <td>0</td>\n      <td>Graduate</td>\n      <td>No</td>\n      <td>5720</td>\n      <td>0</td>\n      <td>110.0</td>\n      <td>360.0</td>\n      <td>1.0</td>\n      <td>Urban</td>\n    </tr>\n    <tr>\n      <th>1</th>\n      <td>LP001022</td>\n      <td>Male</td>\n      <td>Yes</td>\n      <td>1</td>\n      <td>Graduate</td>\n      <td>No</td>\n      <td>3076</td>\n      <td>1500</td>\n      <td>126.0</td>\n      <td>360.0</td>\n      <td>1.0</td>\n      <td>Urban</td>\n    </tr>\n    <tr>\n      <th>2</th>\n      <td>LP001031</td>\n      <td>Male</td>\n      <td>Yes</td>\n      <td>2</td>\n      <td>Graduate</td>\n      <td>No</td>\n      <td>5000</td>\n      <td>1800</td>\n      <td>208.0</td>\n      <td>360.0</td>\n      <td>1.0</td>\n      <td>Urban</td>\n    </tr>\n    <tr>\n      <th>3</th>\n      <td>LP001035</td>\n      <td>Male</td>\n      <td>Yes</td>\n      <td>2</td>\n      <td>Graduate</td>\n      <td>No</td>\n      <td>2340</td>\n      <td>2546</td>\n      <td>100.0</td>\n      <td>360.0</td>\n      <td>NaN</td>\n      <td>Urban</td>\n    </tr>\n    <tr>\n      <th>4</th>\n      <td>LP001051</td>\n      <td>Male</td>\n      <td>No</td>\n      <td>0</td>\n      <td>Not Graduate</td>\n      <td>No</td>\n      <td>3276</td>\n      <td>0</td>\n      <td>78.0</td>\n      <td>360.0</td>\n      <td>1.0</td>\n      <td>Urban</td>\n    </tr>\n  </tbody>\n</table>\n</div>", 
                        "text/plain": "    Loan_ID Gender Married Dependents     Education Self_Employed  \\\n0  LP001015   Male     Yes          0      Graduate            No   \n1  LP001022   Male     Yes          1      Graduate            No   \n2  LP001031   Male     Yes          2      Graduate            No   \n3  LP001035   Male     Yes          2      Graduate            No   \n4  LP001051   Male      No          0  Not Graduate            No   \n\n   ApplicantIncome  CoapplicantIncome  LoanAmount  Loan_Amount_Term  \\\n0             5720                  0       110.0             360.0   \n1             3076               1500       126.0             360.0   \n2             5000               1800       208.0             360.0   \n3             2340               2546       100.0             360.0   \n4             3276                  0        78.0             360.0   \n\n   Credit_History Property_Area  \n0             1.0         Urban  \n1             1.0         Urban  \n2             1.0         Urban  \n3             NaN         Urban  \n4             1.0         Urban  "
                    }, 
                    "output_type": "execute_result"
                }
            ], 
            "source": "\nbody = client_3269765585d54624a3f9e9ca7b7a831e.get_object(Bucket='deeplearning-donotdelete-pr-msmmmlhpmtzwze',Key='test_Y3wMUE5_7gLdaTN.csv')['Body']\n# add missing __iter__ method, so pandas accepts body as file-like object\nif not hasattr(body, \"__iter__\"): body.__iter__ = types.MethodType( __iter__, body )\n\ntest = pd.read_csv(body)\ntest.head()\n\n"
        }, 
        {
            "execution_count": 6, 
            "cell_type": "code", 
            "metadata": {}, 
            "outputs": [
                {
                    "execution_count": 6, 
                    "metadata": {}, 
                    "data": {
                        "text/html": "<div>\n<style scoped>\n    .dataframe tbody tr th:only-of-type {\n        vertical-align: middle;\n    }\n\n    .dataframe tbody tr th {\n        vertical-align: top;\n    }\n\n    .dataframe thead th {\n        text-align: right;\n    }\n</style>\n<table border=\"1\" class=\"dataframe\">\n  <thead>\n    <tr style=\"text-align: right;\">\n      <th></th>\n      <th>Loan_ID</th>\n      <th>Loan_Status</th>\n    </tr>\n  </thead>\n  <tbody>\n  </tbody>\n</table>\n</div>", 
                        "text/plain": "Empty DataFrame\nColumns: [Loan_ID, Loan_Status]\nIndex: []"
                    }, 
                    "output_type": "execute_result"
                }
            ], 
            "source": "\nbody = client_3269765585d54624a3f9e9ca7b7a831e.get_object(Bucket='deeplearning-donotdelete-pr-msmmmlhpmtzwze',Key='Sample_Submission_ZAuTl8O_FK3zQHh.csv')['Body']\n# add missing __iter__ method, so pandas accepts body as file-like object\nif not hasattr(body, \"__iter__\"): body.__iter__ = types.MethodType( __iter__, body )\n\nsample_discussion = pd.read_csv(body)\nsample_discussion.head()\n\n"
        }, 
        {
            "execution_count": 7, 
            "cell_type": "code", 
            "metadata": {}, 
            "outputs": [
                {
                    "output_type": "stream", 
                    "name": "stdout", 
                    "text": "<class 'pandas.core.frame.DataFrame'>\nRangeIndex: 367 entries, 0 to 366\nData columns (total 12 columns):\nLoan_ID              367 non-null object\nGender               356 non-null object\nMarried              367 non-null object\nDependents           357 non-null object\nEducation            367 non-null object\nSelf_Employed        344 non-null object\nApplicantIncome      367 non-null int64\nCoapplicantIncome    367 non-null int64\nLoanAmount           362 non-null float64\nLoan_Amount_Term     361 non-null float64\nCredit_History       338 non-null float64\nProperty_Area        367 non-null object\ndtypes: float64(3), int64(2), object(7)\nmemory usage: 34.5+ KB\n"
                }
            ], 
            "source": "train_original=train.copy() \ntest_original=test.copy()\ntest.info()"
        }, 
        {
            "execution_count": 8, 
            "cell_type": "code", 
            "metadata": {}, 
            "outputs": [], 
            "source": "#fill the missing values using fillna\ntrain['Gender'].fillna(train['Gender'].mode()[0], inplace=True) \ntrain['Married'].fillna(train['Married'].mode()[0], inplace=True) \ntrain['Dependents'].fillna(train['Dependents'].mode()[0], inplace=True) \ntrain['Self_Employed'].fillna(train['Self_Employed'].mode()[0], inplace=True) \ntrain['Credit_History'].fillna(train['Credit_History'].mode()[0], inplace=True)"
        }, 
        {
            "execution_count": 9, 
            "cell_type": "code", 
            "metadata": {}, 
            "outputs": [
                {
                    "execution_count": 9, 
                    "metadata": {}, 
                    "data": {
                        "text/plain": "360.0    512\n180.0     44\n480.0     15\n300.0     13\n84.0       4\n240.0      4\n120.0      3\n36.0       2\n60.0       2\n12.0       1\nName: Loan_Amount_Term, dtype: int64"
                    }, 
                    "output_type": "execute_result"
                }
            ], 
            "source": "#Now let\u2019s try to find a way to fill the missing values in Loan_Amount_Term. We will look at the value count of the Loan amount term variable.\ntrain['Loan_Amount_Term'].value_counts()"
        }, 
        {
            "execution_count": 10, 
            "cell_type": "code", 
            "metadata": {}, 
            "outputs": [], 
            "source": "#It can be seen that in loan amount term variable, the value of 360 is repeating the most. So we will replace the missing values in this variable using the mode of this variable.\ntrain['Loan_Amount_Term'].fillna(train['Loan_Amount_Term'].mode()[0], inplace=True)"
        }, 
        {
            "execution_count": 11, 
            "cell_type": "code", 
            "metadata": {}, 
            "outputs": [], 
            "source": "#Now we will see the LoanAmount variable. As it is a numerical variable, we can use mean or median to impute the missing values. \n#We will use median to fill the null values as earlier we saw that loan amount have outliers so the mean will not be the proper approach as it is highly affected by the presence of outliers.\ntrain['LoanAmount'].fillna(train['LoanAmount'].median(), inplace=True)"
        }, 
        {
            "execution_count": 12, 
            "cell_type": "code", 
            "metadata": {}, 
            "outputs": [
                {
                    "execution_count": 12, 
                    "metadata": {}, 
                    "data": {
                        "text/plain": "Loan_ID              0\nGender               0\nMarried              0\nDependents           0\nEducation            0\nSelf_Employed        0\nApplicantIncome      0\nCoapplicantIncome    0\nLoanAmount           0\nLoan_Amount_Term     0\nCredit_History       0\nProperty_Area        0\nLoan_Status          0\ndtype: int64"
                    }, 
                    "output_type": "execute_result"
                }
            ], 
            "source": "#Now lets check whether all the missing values are filled in the dataset.\ntrain.isnull().sum()"
        }, 
        {
            "execution_count": 13, 
            "cell_type": "code", 
            "metadata": {}, 
            "outputs": [], 
            "source": "#As we can see that all the missing values have been filled in the test dataset. Let\u2019s fill all the missing values in the test dataset too with the same approach.\ntest['Gender'].fillna(train['Gender'].mode()[0], inplace=True) \ntest['Dependents'].fillna(train['Dependents'].mode()[0], inplace=True) \ntest['Self_Employed'].fillna(train['Self_Employed'].mode()[0], inplace=True) \ntest['Credit_History'].fillna(train['Credit_History'].mode()[0], inplace=True) \ntest['Loan_Amount_Term'].fillna(train['Loan_Amount_Term'].mode()[0], inplace=True) \ntest['LoanAmount'].fillna(train['LoanAmount'].median(), inplace=True)\n#replacing 3+ to 3 \ntrain['Dependents'].replace('3+', 3,inplace=True) \ntest['Dependents'].replace('3+', 3,inplace=True) \ntrain['Loan_Status'].replace('N', 0,inplace=True) \ntrain['Loan_Status'].replace('Y', 1,inplace=True)"
        }, 
        {
            "execution_count": 22, 
            "cell_type": "code", 
            "metadata": {}, 
            "outputs": [
                {
                    "execution_count": 22, 
                    "metadata": {}, 
                    "data": {
                        "text/html": "<div>\n<style scoped>\n    .dataframe tbody tr th:only-of-type {\n        vertical-align: middle;\n    }\n\n    .dataframe tbody tr th {\n        vertical-align: top;\n    }\n\n    .dataframe thead th {\n        text-align: right;\n    }\n</style>\n<table border=\"1\" class=\"dataframe\">\n  <thead>\n    <tr style=\"text-align: right;\">\n      <th></th>\n      <th>Loan_ID</th>\n      <th>Dependents</th>\n      <th>ApplicantIncome</th>\n      <th>CoapplicantIncome</th>\n      <th>LoanAmount</th>\n      <th>Loan_Amount_Term</th>\n      <th>Gender_Female</th>\n      <th>Gender_Male</th>\n      <th>Married_No</th>\n      <th>Married_Yes</th>\n      <th>...</th>\n      <th>Self_Employed_Yes</th>\n      <th>Education_Graduate</th>\n      <th>Education_Not Graduate</th>\n      <th>Credit_History_0.0</th>\n      <th>Credit_History_1.0</th>\n      <th>Property_Area_Rural</th>\n      <th>Property_Area_Semiurban</th>\n      <th>Property_Area_Urban</th>\n      <th>Loan_Status_0</th>\n      <th>Loan_Status_1</th>\n    </tr>\n  </thead>\n  <tbody>\n    <tr>\n      <th>0</th>\n      <td>LP001002</td>\n      <td>0</td>\n      <td>5849</td>\n      <td>0.0</td>\n      <td>128.0</td>\n      <td>360.0</td>\n      <td>0</td>\n      <td>1</td>\n      <td>1</td>\n      <td>0</td>\n      <td>...</td>\n      <td>0</td>\n      <td>1</td>\n      <td>0</td>\n      <td>0</td>\n      <td>1</td>\n      <td>0</td>\n      <td>0</td>\n      <td>1</td>\n      <td>0</td>\n      <td>1</td>\n    </tr>\n    <tr>\n      <th>1</th>\n      <td>LP001003</td>\n      <td>1</td>\n      <td>4583</td>\n      <td>1508.0</td>\n      <td>128.0</td>\n      <td>360.0</td>\n      <td>0</td>\n      <td>1</td>\n      <td>0</td>\n      <td>1</td>\n      <td>...</td>\n      <td>0</td>\n      <td>1</td>\n      <td>0</td>\n      <td>0</td>\n      <td>1</td>\n      <td>1</td>\n      <td>0</td>\n      <td>0</td>\n      <td>1</td>\n      <td>0</td>\n    </tr>\n    <tr>\n      <th>2</th>\n      <td>LP001005</td>\n      <td>0</td>\n      <td>3000</td>\n      <td>0.0</td>\n      <td>66.0</td>\n      <td>360.0</td>\n      <td>0</td>\n      <td>1</td>\n      <td>0</td>\n      <td>1</td>\n      <td>...</td>\n      <td>1</td>\n      <td>1</td>\n      <td>0</td>\n      <td>0</td>\n      <td>1</td>\n      <td>0</td>\n      <td>0</td>\n      <td>1</td>\n      <td>0</td>\n      <td>1</td>\n    </tr>\n    <tr>\n      <th>3</th>\n      <td>LP001006</td>\n      <td>0</td>\n      <td>2583</td>\n      <td>2358.0</td>\n      <td>120.0</td>\n      <td>360.0</td>\n      <td>0</td>\n      <td>1</td>\n      <td>0</td>\n      <td>1</td>\n      <td>...</td>\n      <td>0</td>\n      <td>0</td>\n      <td>1</td>\n      <td>0</td>\n      <td>1</td>\n      <td>0</td>\n      <td>0</td>\n      <td>1</td>\n      <td>0</td>\n      <td>1</td>\n    </tr>\n    <tr>\n      <th>4</th>\n      <td>LP001008</td>\n      <td>0</td>\n      <td>6000</td>\n      <td>0.0</td>\n      <td>141.0</td>\n      <td>360.0</td>\n      <td>0</td>\n      <td>1</td>\n      <td>1</td>\n      <td>0</td>\n      <td>...</td>\n      <td>0</td>\n      <td>1</td>\n      <td>0</td>\n      <td>0</td>\n      <td>1</td>\n      <td>0</td>\n      <td>0</td>\n      <td>1</td>\n      <td>0</td>\n      <td>1</td>\n    </tr>\n  </tbody>\n</table>\n<p>5 rows \u00d7 21 columns</p>\n</div>", 
                        "text/plain": "    Loan_ID Dependents  ApplicantIncome  CoapplicantIncome  LoanAmount  \\\n0  LP001002          0             5849                0.0       128.0   \n1  LP001003          1             4583             1508.0       128.0   \n2  LP001005          0             3000                0.0        66.0   \n3  LP001006          0             2583             2358.0       120.0   \n4  LP001008          0             6000                0.0       141.0   \n\n   Loan_Amount_Term  Gender_Female  Gender_Male  Married_No  Married_Yes  \\\n0             360.0              0            1           1            0   \n1             360.0              0            1           0            1   \n2             360.0              0            1           0            1   \n3             360.0              0            1           0            1   \n4             360.0              0            1           1            0   \n\n       ...        Self_Employed_Yes  Education_Graduate  \\\n0      ...                        0                   1   \n1      ...                        0                   1   \n2      ...                        1                   1   \n3      ...                        0                   0   \n4      ...                        0                   1   \n\n   Education_Not Graduate  Credit_History_0.0  Credit_History_1.0  \\\n0                       0                   0                   1   \n1                       0                   0                   1   \n2                       0                   0                   1   \n3                       1                   0                   1   \n4                       0                   0                   1   \n\n   Property_Area_Rural  Property_Area_Semiurban  Property_Area_Urban  \\\n0                    0                        0                    1   \n1                    1                        0                    0   \n2                    0                        0                    1   \n3                    0                        0                    1   \n4                    0                        0                    1   \n\n   Loan_Status_0  Loan_Status_1  \n0              0              1  \n1              1              0  \n2              0              1  \n3              0              1  \n4              0              1  \n\n[5 rows x 21 columns]"
                    }, 
                    "output_type": "execute_result"
                }
            ], 
            "source": "#Encoding categerical data in train dataset\ntrain_onehot= pd.get_dummies(train, columns=['Gender','Married','Self_Employed','Education','Credit_History','Property_Area','Loan_Status'], prefix = ['Gender','Married','Self_Employed','Education','Credit_History','Property_Area','Loan_Status'])\n\ntrain_onehot.head()\n"
        }, 
        {
            "execution_count": 23, 
            "cell_type": "code", 
            "metadata": {}, 
            "outputs": [
                {
                    "execution_count": 23, 
                    "metadata": {}, 
                    "data": {
                        "text/html": "<div>\n<style scoped>\n    .dataframe tbody tr th:only-of-type {\n        vertical-align: middle;\n    }\n\n    .dataframe tbody tr th {\n        vertical-align: top;\n    }\n\n    .dataframe thead th {\n        text-align: right;\n    }\n</style>\n<table border=\"1\" class=\"dataframe\">\n  <thead>\n    <tr style=\"text-align: right;\">\n      <th></th>\n      <th>Loan_ID</th>\n      <th>Dependents</th>\n      <th>ApplicantIncome</th>\n      <th>CoapplicantIncome</th>\n      <th>LoanAmount</th>\n      <th>Loan_Amount_Term</th>\n      <th>Gender_Female</th>\n      <th>Gender_Male</th>\n      <th>Married_No</th>\n      <th>Married_Yes</th>\n      <th>...</th>\n      <th>Self_Employed_Yes</th>\n      <th>Education_Graduate</th>\n      <th>Education_Not Graduate</th>\n      <th>Credit_History_0.0</th>\n      <th>Credit_History_1.0</th>\n      <th>Property_Area_Rural</th>\n      <th>Property_Area_Semiurban</th>\n      <th>Property_Area_Urban</th>\n      <th>Loan_Status_0</th>\n      <th>Loan_Status_1</th>\n    </tr>\n  </thead>\n  <tbody>\n    <tr>\n      <th>0</th>\n      <td>LP001002</td>\n      <td>0</td>\n      <td>5849</td>\n      <td>0.0</td>\n      <td>128.0</td>\n      <td>360.0</td>\n      <td>0</td>\n      <td>1</td>\n      <td>1</td>\n      <td>0</td>\n      <td>...</td>\n      <td>0</td>\n      <td>1</td>\n      <td>0</td>\n      <td>0</td>\n      <td>1</td>\n      <td>0</td>\n      <td>0</td>\n      <td>1</td>\n      <td>0</td>\n      <td>1</td>\n    </tr>\n    <tr>\n      <th>1</th>\n      <td>LP001003</td>\n      <td>1</td>\n      <td>4583</td>\n      <td>1508.0</td>\n      <td>128.0</td>\n      <td>360.0</td>\n      <td>0</td>\n      <td>1</td>\n      <td>0</td>\n      <td>1</td>\n      <td>...</td>\n      <td>0</td>\n      <td>1</td>\n      <td>0</td>\n      <td>0</td>\n      <td>1</td>\n      <td>1</td>\n      <td>0</td>\n      <td>0</td>\n      <td>1</td>\n      <td>0</td>\n    </tr>\n    <tr>\n      <th>2</th>\n      <td>LP001005</td>\n      <td>0</td>\n      <td>3000</td>\n      <td>0.0</td>\n      <td>66.0</td>\n      <td>360.0</td>\n      <td>0</td>\n      <td>1</td>\n      <td>0</td>\n      <td>1</td>\n      <td>...</td>\n      <td>1</td>\n      <td>1</td>\n      <td>0</td>\n      <td>0</td>\n      <td>1</td>\n      <td>0</td>\n      <td>0</td>\n      <td>1</td>\n      <td>0</td>\n      <td>1</td>\n    </tr>\n    <tr>\n      <th>3</th>\n      <td>LP001006</td>\n      <td>0</td>\n      <td>2583</td>\n      <td>2358.0</td>\n      <td>120.0</td>\n      <td>360.0</td>\n      <td>0</td>\n      <td>1</td>\n      <td>0</td>\n      <td>1</td>\n      <td>...</td>\n      <td>0</td>\n      <td>0</td>\n      <td>1</td>\n      <td>0</td>\n      <td>1</td>\n      <td>0</td>\n      <td>0</td>\n      <td>1</td>\n      <td>0</td>\n      <td>1</td>\n    </tr>\n    <tr>\n      <th>4</th>\n      <td>LP001008</td>\n      <td>0</td>\n      <td>6000</td>\n      <td>0.0</td>\n      <td>141.0</td>\n      <td>360.0</td>\n      <td>0</td>\n      <td>1</td>\n      <td>1</td>\n      <td>0</td>\n      <td>...</td>\n      <td>0</td>\n      <td>1</td>\n      <td>0</td>\n      <td>0</td>\n      <td>1</td>\n      <td>0</td>\n      <td>0</td>\n      <td>1</td>\n      <td>0</td>\n      <td>1</td>\n    </tr>\n  </tbody>\n</table>\n<p>5 rows \u00d7 21 columns</p>\n</div>", 
                        "text/plain": "    Loan_ID Dependents  ApplicantIncome  CoapplicantIncome  LoanAmount  \\\n0  LP001002          0             5849                0.0       128.0   \n1  LP001003          1             4583             1508.0       128.0   \n2  LP001005          0             3000                0.0        66.0   \n3  LP001006          0             2583             2358.0       120.0   \n4  LP001008          0             6000                0.0       141.0   \n\n   Loan_Amount_Term  Gender_Female  Gender_Male  Married_No  Married_Yes  \\\n0             360.0              0            1           1            0   \n1             360.0              0            1           0            1   \n2             360.0              0            1           0            1   \n3             360.0              0            1           0            1   \n4             360.0              0            1           1            0   \n\n       ...        Self_Employed_Yes  Education_Graduate  \\\n0      ...                        0                   1   \n1      ...                        0                   1   \n2      ...                        1                   1   \n3      ...                        0                   0   \n4      ...                        0                   1   \n\n   Education_Not Graduate  Credit_History_0.0  Credit_History_1.0  \\\n0                       0                   0                   1   \n1                       0                   0                   1   \n2                       0                   0                   1   \n3                       1                   0                   1   \n4                       0                   0                   1   \n\n   Property_Area_Rural  Property_Area_Semiurban  Property_Area_Urban  \\\n0                    0                        0                    1   \n1                    1                        0                    0   \n2                    0                        0                    1   \n3                    0                        0                    1   \n4                    0                        0                    1   \n\n   Loan_Status_0  Loan_Status_1  \n0              0              1  \n1              1              0  \n2              0              1  \n3              0              1  \n4              0              1  \n\n[5 rows x 21 columns]"
                    }, 
                    "output_type": "execute_result"
                }
            ], 
            "source": "#Encoding categerical data in test dataset\ntest_onehot= pd.get_dummies(test, columns=['Gender','Married','Self_Employed','Credit_History','Education','Property_Area'], prefix = ['Gender','Married','Education','Self_Employed','Credit_History','Property_Area'])\n\ntrain_onehot.head()"
        }, 
        {
            "execution_count": 28, 
            "cell_type": "code", 
            "metadata": {}, 
            "outputs": [
                {
                    "execution_count": 28, 
                    "metadata": {}, 
                    "data": {
                        "text/plain": "Index(['Dependents', 'ApplicantIncome', 'CoapplicantIncome', 'LoanAmount',\n       'Loan_Amount_Term', 'Gender_Female', 'Gender_Male', 'Married_No',\n       'Married_Yes', 'Self_Employed_No', 'Self_Employed_Yes',\n       'Education_Graduate', 'Education_Not Graduate', 'Credit_History_0.0',\n       'Credit_History_1.0', 'Property_Area_Rural', 'Property_Area_Semiurban',\n       'Property_Area_Urban'],\n      dtype='object')"
                    }, 
                    "output_type": "execute_result"
                }
            ], 
            "source": "X = train_onehot.drop(['Loan_Status_0','Loan_Status_1','Loan_ID'],1) \n\n\n\ny = train_onehot[['Loan_Status_0','Loan_Status_1']]\n\n\nX.columns"
        }, 
        {
            "execution_count": 29, 
            "cell_type": "code", 
            "metadata": {}, 
            "outputs": [], 
            "source": "from sklearn.model_selection import train_test_split\nx_train, x_valid, y_train, y_valid = train_test_split(X,y, test_size =0.3)"
        }, 
        {
            "execution_count": 30, 
            "cell_type": "code", 
            "metadata": {}, 
            "outputs": [], 
            "source": "model = Sequential()\nmodel.add(Dense(64, input_dim=18, activation= \"relu\"))\n#model.add(BatchNormalization())\n#model.add(Dropout(0.5))\nmodel.add(Dense(64, activation='relu'))\n#model.add(BatchNormalization())\nmodel.add(Dropout(0.5))\nmodel.add(Dense(64, activation='relu'))\n# model.add(Dense(64, activation='relu'))\n# model.add(BatchNormalization())\nmodel.add(Dropout(0.5))\nmodel.add(Dense(2, activation='softmax'))"
        }, 
        {
            "execution_count": 31, 
            "cell_type": "code", 
            "metadata": {}, 
            "outputs": [
                {
                    "output_type": "stream", 
                    "name": "stdout", 
                    "text": "_________________________________________________________________\nLayer (type)                 Output Shape              Param #   \n=================================================================\ndense_5 (Dense)              (None, 64)                1216      \n_________________________________________________________________\ndense_6 (Dense)              (None, 64)                4160      \n_________________________________________________________________\ndropout_3 (Dropout)          (None, 64)                0         \n_________________________________________________________________\ndense_7 (Dense)              (None, 64)                4160      \n_________________________________________________________________\ndropout_4 (Dropout)          (None, 64)                0         \n_________________________________________________________________\ndense_8 (Dense)              (None, 2)                 130       \n=================================================================\nTotal params: 9,666\nTrainable params: 9,666\nNon-trainable params: 0\n_________________________________________________________________\n"
                }
            ], 
            "source": "model.summary()"
        }, 
        {
            "execution_count": 36, 
            "cell_type": "code", 
            "metadata": {}, 
            "outputs": [], 
            "source": "model.compile(loss=\"mean_squared_error\" , optimizer=SGD(lr=0.1), metrics=['accuracy'])"
        }, 
        {
            "execution_count": 37, 
            "cell_type": "code", 
            "metadata": {}, 
            "outputs": [
                {
                    "output_type": "stream", 
                    "name": "stdout", 
                    "text": "Train on 429 samples, validate on 185 samples\nEpoch 1/20\n429/429 [==============================] - 0s 271us/step - loss: 0.3112 - acc: 0.6876 - val_loss: 0.3189 - val_acc: 0.6811\nEpoch 2/20\n429/429 [==============================] - 0s 29us/step - loss: 0.3124 - acc: 0.6876 - val_loss: 0.3189 - val_acc: 0.6811\nEpoch 3/20\n429/429 [==============================] - 0s 28us/step - loss: 0.3147 - acc: 0.6853 - val_loss: 0.3189 - val_acc: 0.6811\nEpoch 4/20\n429/429 [==============================] - 0s 28us/step - loss: 0.3147 - acc: 0.6853 - val_loss: 0.3189 - val_acc: 0.6811\nEpoch 5/20\n429/429 [==============================] - 0s 28us/step - loss: 0.3100 - acc: 0.6900 - val_loss: 0.3189 - val_acc: 0.6811\nEpoch 6/20\n429/429 [==============================] - 0s 27us/step - loss: 0.3077 - acc: 0.6923 - val_loss: 0.3189 - val_acc: 0.6811\nEpoch 7/20\n429/429 [==============================] - 0s 28us/step - loss: 0.3054 - acc: 0.6946 - val_loss: 0.3189 - val_acc: 0.6811\nEpoch 8/20\n429/429 [==============================] - 0s 29us/step - loss: 0.3124 - acc: 0.6876 - val_loss: 0.3189 - val_acc: 0.6811\nEpoch 9/20\n429/429 [==============================] - 0s 29us/step - loss: 0.3147 - acc: 0.6853 - val_loss: 0.3189 - val_acc: 0.6811\nEpoch 10/20\n429/429 [==============================] - 0s 28us/step - loss: 0.3100 - acc: 0.6900 - val_loss: 0.3189 - val_acc: 0.6811\nEpoch 11/20\n429/429 [==============================] - 0s 28us/step - loss: 0.3054 - acc: 0.6946 - val_loss: 0.3189 - val_acc: 0.6811\nEpoch 12/20\n429/429 [==============================] - 0s 27us/step - loss: 0.3124 - acc: 0.6876 - val_loss: 0.3189 - val_acc: 0.6811\nEpoch 13/20\n429/429 [==============================] - 0s 29us/step - loss: 0.3100 - acc: 0.6900 - val_loss: 0.3189 - val_acc: 0.6811\nEpoch 14/20\n429/429 [==============================] - 0s 30us/step - loss: 0.3147 - acc: 0.6853 - val_loss: 0.3189 - val_acc: 0.6811\nEpoch 15/20\n429/429 [==============================] - 0s 38us/step - loss: 0.3054 - acc: 0.6946 - val_loss: 0.3189 - val_acc: 0.6811\nEpoch 16/20\n429/429 [==============================] - 0s 28us/step - loss: 0.3147 - acc: 0.6853 - val_loss: 0.3189 - val_acc: 0.6811\nEpoch 17/20\n429/429 [==============================] - 0s 29us/step - loss: 0.3124 - acc: 0.6876 - val_loss: 0.3189 - val_acc: 0.6811\nEpoch 18/20\n429/429 [==============================] - 0s 29us/step - loss: 0.3124 - acc: 0.6876 - val_loss: 0.3189 - val_acc: 0.6811\nEpoch 19/20\n429/429 [==============================] - 0s 28us/step - loss: 0.3193 - acc: 0.6807 - val_loss: 0.3189 - val_acc: 0.6811\nEpoch 20/20\n429/429 [==============================] - 0s 28us/step - loss: 0.3100 - acc: 0.6900 - val_loss: 0.3189 - val_acc: 0.6811\n"
                }, 
                {
                    "execution_count": 37, 
                    "metadata": {}, 
                    "data": {
                        "text/plain": "<keras.callbacks.History at 0x7f02b0667dd8>"
                    }, 
                    "output_type": "execute_result"
                }
            ], 
            "source": "model.fit(x_train, y_train, batch_size=128, epochs=20, verbose=1, validation_data=(x_valid, y_valid))"
        }, 
        {
            "execution_count": null, 
            "cell_type": "code", 
            "metadata": {}, 
            "outputs": [], 
            "source": ""
        }, 
        {
            "execution_count": null, 
            "cell_type": "code", 
            "metadata": {}, 
            "outputs": [], 
            "source": ""
        }, 
        {
            "execution_count": null, 
            "cell_type": "code", 
            "metadata": {}, 
            "outputs": [], 
            "source": ""
        }, 
        {
            "execution_count": null, 
            "cell_type": "code", 
            "metadata": {}, 
            "outputs": [], 
            "source": ""
        }
    ], 
    "metadata": {
        "kernelspec": {
            "display_name": "Python 3.5", 
            "name": "python3", 
            "language": "python"
        }, 
        "language_info": {
            "mimetype": "text/x-python", 
            "nbconvert_exporter": "python", 
            "version": "3.5.5", 
            "name": "python", 
            "file_extension": ".py", 
            "pygments_lexer": "ipython3", 
            "codemirror_mode": {
                "version": 3, 
                "name": "ipython"
            }
        }
    }, 
    "nbformat": 4
}