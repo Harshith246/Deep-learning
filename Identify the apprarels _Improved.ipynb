{
    "nbformat_minor": 2, 
    "cells": [
        {
            "source": "# Intermediate Neural Network in Keras", 
            "cell_type": "markdown", 
            "metadata": {}
        }, 
        {
            "source": "This is an improved version with tuned hyper parameters identifying the apparels. ", 
            "cell_type": "markdown", 
            "metadata": {}
        }, 
        {
            "source": "#### Set seed for reproducibility", 
            "cell_type": "markdown", 
            "metadata": {}
        }, 
        {
            "source": "import numpy as np\nnp.random.seed(42)", 
            "cell_type": "code", 
            "metadata": {}, 
            "outputs": [], 
            "execution_count": 1
        }, 
        {
            "source": "#### Load dependencies", 
            "cell_type": "markdown", 
            "metadata": {}
        }, 
        {
            "source": "import keras\nfrom keras.datasets import fashion_mnist\nfrom keras.models import Sequential\nfrom keras.layers import Dense\nfrom keras.optimizers import SGD", 
            "cell_type": "code", 
            "metadata": {}, 
            "outputs": [
                {
                    "output_type": "stream", 
                    "name": "stderr", 
                    "text": "Using TensorFlow backend.\n"
                }
            ], 
            "execution_count": 2
        }, 
        {
            "source": "#### Load data", 
            "cell_type": "markdown", 
            "metadata": {}
        }, 
        {
            "source": "(X_train, y_train), (X_test, y_test) = fashion_mnist.load_data()", 
            "cell_type": "code", 
            "metadata": {}, 
            "outputs": [], 
            "execution_count": 3
        }, 
        {
            "source": "#### Preprocess data", 
            "cell_type": "markdown", 
            "metadata": {}
        }, 
        {
            "source": "X_train = X_train.reshape(60000, 784).astype('float32')\nX_test = X_test.reshape(10000, 784).astype('float32')", 
            "cell_type": "code", 
            "metadata": {}, 
            "outputs": [], 
            "execution_count": 4
        }, 
        {
            "source": "X_train /= 255\nX_test /= 255", 
            "cell_type": "code", 
            "metadata": {}, 
            "outputs": [], 
            "execution_count": 5
        }, 
        {
            "source": "n_classes = 10\ny_train = keras.utils.to_categorical(y_train, n_classes)\ny_test = keras.utils.to_categorical(y_test, n_classes)", 
            "cell_type": "code", 
            "metadata": {}, 
            "outputs": [], 
            "execution_count": 6
        }, 
        {
            "source": "#### Design neural network architecture", 
            "cell_type": "markdown", 
            "metadata": {}
        }, 
        {
            "source": "model = Sequential()\nmodel.add(Dense(64, activation='relu', input_shape=(784,)))\nmodel.add(Dense(64, activation='relu'))\nmodel.add(Dense(10, activation='softmax'))", 
            "cell_type": "code", 
            "metadata": {}, 
            "outputs": [], 
            "execution_count": 7
        }, 
        {
            "source": "model.summary()", 
            "cell_type": "code", 
            "metadata": {}, 
            "outputs": [
                {
                    "output_type": "stream", 
                    "name": "stdout", 
                    "text": "_________________________________________________________________\nLayer (type)                 Output Shape              Param #   \n=================================================================\ndense_1 (Dense)              (None, 64)                50240     \n_________________________________________________________________\ndense_2 (Dense)              (None, 64)                4160      \n_________________________________________________________________\ndense_3 (Dense)              (None, 10)                650       \n=================================================================\nTotal params: 55,050\nTrainable params: 55,050\nNon-trainable params: 0\n_________________________________________________________________\n"
                }
            ], 
            "execution_count": 8
        }, 
        {
            "source": "#### Configure model", 
            "cell_type": "markdown", 
            "metadata": {}
        }, 
        {
            "source": "model.compile(loss='categorical_crossentropy', optimizer=SGD(lr=0.1), metrics=['accuracy'])", 
            "cell_type": "code", 
            "metadata": {}, 
            "outputs": [], 
            "execution_count": 9
        }, 
        {
            "source": "#### Train!", 
            "cell_type": "markdown", 
            "metadata": {}
        }, 
        {
            "source": "model.fit(X_train, y_train, batch_size=128, epochs=20, verbose=1, validation_data=(X_test, y_test))", 
            "cell_type": "code", 
            "metadata": {}, 
            "outputs": [
                {
                    "output_type": "stream", 
                    "name": "stdout", 
                    "text": "Train on 60000 samples, validate on 10000 samples\nEpoch 1/20\n60000/60000 [==============================] - 6s 93us/step - loss: 0.3551 - acc: 0.8715 - val_loss: 0.3754 - val_acc: 0.8651\nEpoch 2/20\n60000/60000 [==============================] - 6s 94us/step - loss: 0.3409 - acc: 0.8757 - val_loss: 0.3721 - val_acc: 0.8648\nEpoch 3/20\n60000/60000 [==============================] - 6s 93us/step - loss: 0.3301 - acc: 0.8797 - val_loss: 0.3964 - val_acc: 0.8514\nEpoch 4/20\n60000/60000 [==============================] - 6s 93us/step - loss: 0.3185 - acc: 0.8828 - val_loss: 0.3657 - val_acc: 0.8694\nEpoch 5/20\n60000/60000 [==============================] - 6s 103us/step - loss: 0.3116 - acc: 0.8863 - val_loss: 0.3594 - val_acc: 0.8719\nEpoch 6/20\n60000/60000 [==============================] - 6s 106us/step - loss: 0.3027 - acc: 0.8889 - val_loss: 0.3532 - val_acc: 0.8727\nEpoch 7/20\n60000/60000 [==============================] - 6s 92us/step - loss: 0.2940 - acc: 0.8922 - val_loss: 0.3591 - val_acc: 0.8709\nEpoch 8/20\n60000/60000 [==============================] - 6s 92us/step - loss: 0.2897 - acc: 0.8943 - val_loss: 0.3551 - val_acc: 0.8703\nEpoch 9/20\n60000/60000 [==============================] - 6s 92us/step - loss: 0.2825 - acc: 0.8957 - val_loss: 0.3800 - val_acc: 0.8650\nEpoch 10/20\n60000/60000 [==============================] - 6s 96us/step - loss: 0.2769 - acc: 0.8976 - val_loss: 0.3683 - val_acc: 0.8654\nEpoch 11/20\n60000/60000 [==============================] - 6s 95us/step - loss: 0.2718 - acc: 0.8987 - val_loss: 0.3458 - val_acc: 0.8775\nEpoch 12/20\n60000/60000 [==============================] - 6s 92us/step - loss: 0.2672 - acc: 0.9020 - val_loss: 0.3689 - val_acc: 0.8669\nEpoch 13/20\n60000/60000 [==============================] - 6s 93us/step - loss: 0.2641 - acc: 0.9018 - val_loss: 0.3706 - val_acc: 0.8677\nEpoch 14/20\n60000/60000 [==============================] - 6s 93us/step - loss: 0.2579 - acc: 0.9053 - val_loss: 0.3735 - val_acc: 0.8596\nEpoch 15/20\n60000/60000 [==============================] - 6s 93us/step - loss: 0.2539 - acc: 0.9058 - val_loss: 0.3389 - val_acc: 0.8790\nEpoch 16/20\n60000/60000 [==============================] - 6s 97us/step - loss: 0.2512 - acc: 0.9061 - val_loss: 0.3410 - val_acc: 0.8794\nEpoch 17/20\n60000/60000 [==============================] - 6s 93us/step - loss: 0.2464 - acc: 0.9069 - val_loss: 0.3429 - val_acc: 0.8793\nEpoch 18/20\n60000/60000 [==============================] - 6s 93us/step - loss: 0.2415 - acc: 0.9095 - val_loss: 0.3892 - val_acc: 0.8648\nEpoch 19/20\n60000/60000 [==============================] - 6s 92us/step - loss: 0.2381 - acc: 0.9116 - val_loss: 0.3507 - val_acc: 0.8745\nEpoch 20/20\n60000/60000 [==============================] - 5s 90us/step - loss: 0.2336 - acc: 0.9127 - val_loss: 0.4287 - val_acc: 0.8554\n"
                }, 
                {
                    "output_type": "execute_result", 
                    "data": {
                        "text/plain": "<keras.callbacks.History at 0x7fa016ced390>"
                    }, 
                    "execution_count": 11, 
                    "metadata": {}
                }
            ], 
            "execution_count": 11
        }, 
        {
            "source": "\nmodel.evaluate(X_test, y_test)", 
            "cell_type": "code", 
            "metadata": {}, 
            "outputs": [
                {
                    "output_type": "stream", 
                    "name": "stdout", 
                    "text": "10000/10000 [==============================] - 0s 50us/step\n"
                }, 
                {
                    "output_type": "execute_result", 
                    "data": {
                        "text/plain": "[0.42866114156246188, 0.85540000000000005]"
                    }, 
                    "execution_count": 12, 
                    "metadata": {}
                }
            ], 
            "execution_count": 12
        }, 
        {
            "source": "y_test[0:9]", 
            "cell_type": "code", 
            "metadata": {}, 
            "outputs": [
                {
                    "output_type": "execute_result", 
                    "data": {
                        "text/plain": "array([[ 0.,  0.,  0.,  0.,  0.,  0.,  0.,  0.,  0.,  1.],\n       [ 0.,  0.,  1.,  0.,  0.,  0.,  0.,  0.,  0.,  0.],\n       [ 0.,  1.,  0.,  0.,  0.,  0.,  0.,  0.,  0.,  0.],\n       [ 0.,  1.,  0.,  0.,  0.,  0.,  0.,  0.,  0.,  0.],\n       [ 0.,  0.,  0.,  0.,  0.,  0.,  1.,  0.,  0.,  0.],\n       [ 0.,  1.,  0.,  0.,  0.,  0.,  0.,  0.,  0.,  0.],\n       [ 0.,  0.,  0.,  0.,  1.,  0.,  0.,  0.,  0.,  0.],\n       [ 0.,  0.,  0.,  0.,  0.,  0.,  1.,  0.,  0.,  0.],\n       [ 0.,  0.,  0.,  0.,  0.,  1.,  0.,  0.,  0.,  0.]])"
                    }, 
                    "execution_count": 13, 
                    "metadata": {}
                }
            ], 
            "execution_count": 13
        }, 
        {
            "source": "y_train[0:9]", 
            "cell_type": "code", 
            "metadata": {}, 
            "outputs": [
                {
                    "output_type": "execute_result", 
                    "data": {
                        "text/plain": "array([[ 0.,  0.,  0.,  0.,  0.,  0.,  0.,  0.,  0.,  1.],\n       [ 1.,  0.,  0.,  0.,  0.,  0.,  0.,  0.,  0.,  0.],\n       [ 1.,  0.,  0.,  0.,  0.,  0.,  0.,  0.,  0.,  0.],\n       [ 0.,  0.,  0.,  1.,  0.,  0.,  0.,  0.,  0.,  0.],\n       [ 1.,  0.,  0.,  0.,  0.,  0.,  0.,  0.,  0.,  0.],\n       [ 0.,  0.,  1.,  0.,  0.,  0.,  0.,  0.,  0.,  0.],\n       [ 0.,  0.,  0.,  0.,  0.,  0.,  0.,  1.,  0.,  0.],\n       [ 0.,  0.,  1.,  0.,  0.,  0.,  0.,  0.,  0.,  0.],\n       [ 0.,  0.,  0.,  0.,  0.,  1.,  0.,  0.,  0.,  0.]])"
                    }, 
                    "execution_count": 16, 
                    "metadata": {}
                }
            ], 
            "execution_count": 16
        }, 
        {
            "source": "", 
            "cell_type": "code", 
            "metadata": {}, 
            "outputs": [], 
            "execution_count": null
        }
    ], 
    "metadata": {
        "kernelspec": {
            "display_name": "Python 3.5", 
            "name": "python3", 
            "language": "python"
        }, 
        "language_info": {
            "mimetype": "text/x-python", 
            "nbconvert_exporter": "python", 
            "version": "3.5.5", 
            "name": "python", 
            "file_extension": ".py", 
            "pygments_lexer": "ipython3", 
            "codemirror_mode": {
                "version": 3, 
                "name": "ipython"
            }
        }
    }, 
    "nbformat": 4
}